{
 "cells": [
  {
   "cell_type": "markdown",
   "id": "received-hartford",
   "metadata": {
    "pycharm": {
     "name": "#%% md\n"
    }
   },
   "source": [
    "## Implementing RNN\n",
    "\n",
    "#### Table of Contents:\n",
    "*[RNN from scratch](#scratch)\n",
    "*[RNN Pytorch](#rnn)"
   ]
  },
  {
   "cell_type": "code",
   "execution_count": 1,
   "outputs": [],
   "source": [
    "import torch\n",
    "from torch import nn, optim\n",
    "import matplotlib.pyplot as plt\n"
   ],
   "metadata": {
    "collapsed": false,
    "pycharm": {
     "name": "#%%\n"
    }
   }
  },
  {
   "cell_type": "markdown",
   "source": [
    "### Pros and Cons of RNN\n",
    "**Pros**:<br>\n",
    "- Possibility of processing input of any length\n",
    "- Model size doesn't increase with the size of inputs\n",
    "- Computation takes into account historical information\n",
    "- Weights are shared across time\n",
    "\n",
    "**Cons**:<br>\n",
    "- Computation is slow\n",
    "- Difficulty to access information from a long time ago\n",
    "- Inability to consider any future input for the current state\n"
   ],
   "metadata": {
    "collapsed": false,
    "pycharm": {
     "name": "#%% md\n"
    }
   }
  }
 ],
 "metadata": {
  "kernelspec": {
   "display_name": "Python 3",
   "language": "python",
   "name": "python3"
  },
  "language_info": {
   "codemirror_mode": {
    "name": "ipython",
    "version": 3
   },
   "file_extension": ".py",
   "mimetype": "text/x-python",
   "name": "python",
   "nbconvert_exporter": "python",
   "pygments_lexer": "ipython3",
   "version": "3.8.6rc1"
  }
 },
 "nbformat": 4,
 "nbformat_minor": 5
}
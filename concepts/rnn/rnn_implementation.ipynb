{
 "cells": [
  {
   "cell_type": "markdown",
   "id": "received-hartford",
   "metadata": {
    "pycharm": {
     "name": "#%% md\n"
    }
   },
   "source": [
    "## Implementing RNN\n",
    "\n",
    "#### Table of Contents:\n",
    "* [RNN from scratch](#scratch)\n",
    "* [RNN Pytorch](#rnn)"
   ]
  },
  {
   "cell_type": "code",
   "execution_count": 2,
   "id": "historic-questionnaire",
   "metadata": {
    "pycharm": {
     "is_executing": true,
     "name": "#%%\n"
    }
   },
   "outputs": [],
   "source": [
    "import torch\n",
    "from torch import nn, optim\n",
    "import matplotlib.pyplot as plt\n",
    "\n",
    "from utils import ALL_LETTERS, N_LETTERS\n",
    "from utils import load_data, letter_to_tensor, line_to_tensor, random_training_example"
   ]
  },
  {
   "cell_type": "markdown",
   "id": "sized-absence",
   "metadata": {
    "pycharm": {
     "name": "#%% md\n"
    }
   },
   "source": [
    "### Pros and Cons of RNN\n",
    "**Pros**:<br>\n",
    "- Possibility of processing input of any length\n",
    "- Model size doesn't increase with the size of inputs\n",
    "- Computation takes into account historical information\n",
    "- Weights are shared across time\n",
    "\n",
    "**Cons**:<br>\n",
    "- Computation is slow\n",
    "- Difficulty to access information from a long time ago\n",
    "- Inability to consider any future input for the current state\n"
   ]
  },
  {
   "cell_type": "markdown",
   "id": "three-carroll",
   "metadata": {
    "pycharm": {
     "name": "#%% md\n"
    }
   },
   "source": [
    "### RNN from scratch <a class=\"anchor\" id=\"scratch\"/>\n",
    "\n",
    "This part is taken from a tutorial by <a href=\"https://www.youtube.com/watch?v=WEV61GmmPrk&list=PLqnslRFeH2UrcDBWF5mfPGpqQDSta6VK4&index=19\">Python Engineer \"Name classification using RNN\"</a>.\n",
    "The case that will be demonstrated is name classification."
   ]
  },
  {
   "cell_type": "code",
   "execution_count": 3,
   "id": "polyphonic-opposition",
   "metadata": {
    "pycharm": {
     "name": "#%%\n"
    }
   },
   "outputs": [],
   "source": [
    "class RNN(nn.Module):\n",
    "    def __init__(self, input_size, hidden_size, output_size):\n",
    "        super(RNN, self).__init__()\n",
    "\n",
    "        self.hidden_size = hidden_size\n",
    "        self.input_to_hidden = nn.Linear(input_size + hidden_size, hidden_size)\n",
    "        self.input_to_output = nn.Linear(input_size + hidden_size, output_size)\n",
    "        self.softmax = nn.LogSoftmax(dim=1)\n",
    "\n",
    "    def forward(self, input_tensor, hidden_tensor):\n",
    "        combined = torch.cat((input_tensor, hidden_tensor), 1)\n",
    "\n",
    "        hidden = self.input_to_hidden(combined)\n",
    "        output = self.input_to_output(combined)\n",
    "        output = self.softmax(output)\n",
    "\n",
    "        return output, hidden\n",
    "\n",
    "    def init_hidden(self):\n",
    "        return torch.zeros(1, self.hidden_size)\n",
    "\n",
    "\n",
    "category_lines, all_categories = load_data()\n",
    "n_categories = len(all_categories)\n",
    "n_hidden = 128\n",
    "rnn = RNN(N_LETTERS, n_hidden, n_categories)"
   ]
  },
  {
   "cell_type": "code",
   "execution_count": 4,
   "id": "informational-debut",
   "metadata": {
    "pycharm": {
     "name": "#%%\n"
    }
   },
   "outputs": [],
   "source": [
    "# one step\n",
    "input_tensor = letter_to_tensor('A')\n",
    "# print(input_tensor.shape, input_tensor)\n",
    "\n",
    "hidden_tensor = rnn.init_hidden()\n",
    "# print(hidden_tensor.shape, hidden_tensor)"
   ]
  },
  {
   "cell_type": "code",
   "execution_count": 5,
   "id": "optimum-moscow",
   "metadata": {
    "pycharm": {
     "name": "#%%\n"
    }
   },
   "outputs": [],
   "source": [
    "input_tensor = line_to_tensor('Albert')\n",
    "hidden_tensor = rnn.init_hidden()\n",
    "\n",
    "output, next_hidden = rnn(input_tensor[0], hidden_tensor)\n",
    "# print(output)\n",
    "# print(next_hidden)"
   ]
  },
  {
   "cell_type": "code",
   "execution_count": 6,
   "id": "settled-forestry",
   "metadata": {
    "pycharm": {
     "name": "#%%\n"
    }
   },
   "outputs": [
    {
     "data": {
      "text/plain": [
       "'Vietnamese'"
      ]
     },
     "execution_count": 6,
     "metadata": {},
     "output_type": "execute_result"
    }
   ],
   "source": [
    "def category_from_output(output):\n",
    "    category_index = torch.argmax(output).item()\n",
    "    return all_categories[category_index]\n",
    "\n",
    "category_from_output(output)"
   ]
  },
  {
   "cell_type": "code",
   "execution_count": 18,
   "id": "joint-creation",
   "metadata": {
    "pycharm": {
     "name": "#%%\n"
    }
   },
   "outputs": [],
   "source": [
    "criterion = nn.NLLLoss()\n",
    "lr = 0.005\n",
    "optimizer = optim.SGD(rnn.parameters(), lr=lr)\n"
   ]
  },
  {
   "cell_type": "code",
   "execution_count": 24,
   "id": "material-township",
   "metadata": {
    "pycharm": {
     "name": "#%%\n"
    }
   },
   "outputs": [
    {
     "name": "stdout",
     "output_type": "stream",
     "text": [
      "5000 5.0 1.5095 Deighton / Scottish WRONG (English)\n",
      "10000 10.0 0.1427 Dubhain / Irish CORRECT\n",
      "15000 15.0 1.1401 Michael / Irish CORRECT\n",
      "20000 20.0 4.0577 Whitmire / Scottish WRONG (Czech)\n",
      "25000 25.0 0.0409 Callaghan / Irish CORRECT\n",
      "30000 30.0 2.2182 Samuel / Arabic WRONG (French)\n",
      "35000 35.0 0.7920 Issa / Arabic CORRECT\n",
      "40000 40.0 0.0583 Jong / Korean CORRECT\n",
      "45000 45.0 0.8157 Westerberg / German CORRECT\n",
      "50000 50.0 0.9206 Hong / Korean WRONG (Chinese)\n",
      "55000 55.00000000000001 2.9969 Mccormack / Czech WRONG (English)\n",
      "60000 60.0 3.1835 Sappe / Dutch WRONG (Czech)\n",
      "65000 65.0 0.0504 Phung / Vietnamese CORRECT\n",
      "70000 70.0 0.0330 Ishida / Japanese CORRECT\n",
      "75000 75.0 0.3103 Saliba / Arabic CORRECT\n",
      "80000 80.0 1.8155 Snider / German WRONG (Dutch)\n",
      "85000 85.0 1.5660 Tailler / Scottish WRONG (French)\n",
      "90000 90.0 0.6237 Araullo / Portuguese CORRECT\n",
      "95000 95.0 0.0535 Hayuata / Japanese CORRECT\n",
      "100000 100.0 0.1423 Gu / Korean CORRECT\n"
     ]
    }
   ],
   "source": [
    "def train(line_tensor, category_tensor):\n",
    "    hidden = rnn.init_hidden()\n",
    "\n",
    "    for idx in range(line_tensor.size()[0]):\n",
    "        output, hidden = rnn(line_tensor[idx], hidden)\n",
    "\n",
    "    loss = criterion(output, category_tensor)\n",
    "    optimizer.zero_grad()\n",
    "    loss.backward()\n",
    "    optimizer.step()\n",
    "\n",
    "    return output, loss.item()\n",
    "\n",
    "current_loss = 0\n",
    "all_losses = []\n",
    "plot_steps, print_steps = 1000, 5000\n",
    "n_iters = 100000\n",
    "for i in range(n_iters):\n",
    "    category, line, category_tensor, line_tensor = random_training_example(category_lines, all_categories)\n",
    "\n",
    "    output, loss = train(line_tensor, category_tensor)\n",
    "    current_loss += loss\n",
    "\n",
    "    if (i+1) % plot_steps == 0:\n",
    "        all_losses.append(current_loss / plot_steps)\n",
    "        current_loss = 0\n",
    "\n",
    "    if (i+1) % print_steps == 0:\n",
    "        guess = category_from_output(output)\n",
    "        correct = \"CORRECT\" if guess == category else f\"WRONG ({category})\"\n",
    "        print(f\"{i+1} {(i+1)/n_iters*100} {loss:.4f} {line} / {guess} {correct}\")"
   ]
  },
  {
   "cell_type": "code",
   "execution_count": 26,
   "id": "built-performer",
   "metadata": {
    "pycharm": {
     "name": "#%%\n"
    }
   },
   "outputs": [
    {
     "data": {
      "image/png": "[encoded data removed]",
      "text/plain": [
       "<Figure size 432x288 with 1 Axes>"
      ]
     },
     "metadata": {
      "needs_background": "light"
     },
     "output_type": "display_data"
    }
   ],
   "source": [
    "plt.figure()\n",
    "plt.plot(all_losses)\n",
    "plt.show()\n"
   ]
  },
  {
   "cell_type": "code",
   "execution_count": 7,
   "id": "fifty-plane",
   "metadata": {
    "pycharm": {
     "name": "#%%\n"
    }
   },
   "outputs": [
    {
     "name": "stdout",
     "output_type": "stream",
     "text": [
      "Input:Williams\n",
      "\n",
      "> Williams\n",
      "Vietnamese\n",
      "Input:quit\n"
     ]
    }
   ],
   "source": [
    "def predict(input_line):\n",
    "    print(f\"\\n> {input_line}\")\n",
    "    with torch.no_grad():\n",
    "        line_tensor = line_to_tensor(input_line)\n",
    "\n",
    "        hidden = rnn.init_hidden()\n",
    "\n",
    "        for i in range(line_tensor.size()[0]):\n",
    "            output, hidden = rnn(line_tensor[i], hidden)\n",
    "\n",
    "        guess = category_from_output(output)\n",
    "        print(guess)\n",
    "\n",
    "\n",
    "while True:\n",
    "    sentence = input(\"Input:\")\n",
    "    if sentence == \"quit\":\n",
    "        break\n",
    "\n",
    "    predict(sentence)\n"
   ]
  },
  {
   "cell_type": "code",
   "execution_count": null,
   "id": "single-victorian",
   "metadata": {
    "pycharm": {
     "name": "#%%\n"
    }
   },
   "outputs": [],
   "source": []
  }
 ],
 "metadata": {
  "kernelspec": {
   "display_name": "Python 3",
   "language": "python",
   "name": "python3"
  },
  "language_info": {
   "codemirror_mode": {
    "name": "ipython",
    "version": 3
   },
   "file_extension": ".py",
   "mimetype": "text/x-python",
   "name": "python",
   "nbconvert_exporter": "python",
   "pygments_lexer": "ipython3",
   "version": "3.8.6rc1"
  }
 },
 "nbformat": 4,
 "nbformat_minor": 5
}